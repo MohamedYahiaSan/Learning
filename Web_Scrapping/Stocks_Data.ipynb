{
 "cells": [
  {
   "cell_type": "markdown",
   "metadata": {},
   "source": [
    "<h1><center>Web Scrapping Project</center></h1>\n",
    "<h2><center>Stocks Data</center></h2>\n"
   ]
  },
  {
   "cell_type": "markdown",
   "metadata": {},
   "source": [
    "### Collecting Data from the following <a href=\"https://eoddata.com\" > eoddata</a>.\n",
    "- Scrapping the data\n",
    "- Adding it to a pandas dataframe"
   ]
  },
  {
   "cell_type": "markdown",
   "metadata": {},
   "source": []
  },
  {
   "cell_type": "code",
   "execution_count": 2,
   "metadata": {},
   "outputs": [],
   "source": [
    "# Importing all neede libs\n",
    "from bs4 import BeautifulSoup\n",
    "import requests\n",
    "import pandas as pd\n",
    "import time\n",
    "import matplotlib.pyplot as plt\n"
   ]
  },
  {
   "cell_type": "code",
   "execution_count": 1,
   "metadata": {},
   "outputs": [
    {
     "name": "stdout",
     "output_type": "stream",
     "text": [
      "https://eoddata.com/stocklist/TSX/A.htm\n",
      "https://eoddata.com/stocklist/TSX/B.htm\n",
      "https://eoddata.com/stocklist/TSX/C.htm\n",
      "https://eoddata.com/stocklist/TSX/D.htm\n",
      "https://eoddata.com/stocklist/TSX/E.htm\n",
      "https://eoddata.com/stocklist/TSX/F.htm\n",
      "https://eoddata.com/stocklist/TSX/G.htm\n",
      "https://eoddata.com/stocklist/TSX/H.htm\n",
      "https://eoddata.com/stocklist/TSX/I.htm\n",
      "https://eoddata.com/stocklist/TSX/J.htm\n"
     ]
    }
   ],
   "source": [
    "# Creating the url list to loop through the stock on the website form letter A to letter Z\n",
    "urls=[f'https://eoddata.com/stocklist/TSX/{chr(i)}.htm' for i in range(65,91)]\n",
    "print(*urls[:10],sep='\\n')"
   ]
  },
  {
   "cell_type": "code",
   "execution_count": 3,
   "metadata": {},
   "outputs": [],
   "source": [
    "#Creating a headers for the get request to avoid getting banned by the server \n",
    "headers={\n",
    "    'user-agent':'Mozilla/5.0 (Windows NT 10.0; Win64; x64) AppleWebKit/537.36 (KHTML, like Gecko) Chrome/122.0.0.0 Safari/537.36'\n",
    "}"
   ]
  },
  {
   "cell_type": "code",
   "execution_count": 8,
   "metadata": {},
   "outputs": [],
   "source": [
    "# Creating empty list to use to fill data in\n",
    "data_cache=[]"
   ]
  },
  {
   "cell_type": "code",
   "execution_count": 9,
   "metadata": {},
   "outputs": [],
   "source": [
    "# Looping through the Urls and Scrapping the data with BeautifulSoup \n",
    "# Scrapping the data is based on the html structure of the website\n",
    "for url in urls:\n",
    "    page=requests.get(url,headers=headers)                                      #reading the page\n",
    "    soup=BeautifulSoup(page.text,'lxml')                                        #parsing html with bs4\n",
    "    table=soup.find('div',attrs={'id':'ctl00_cph1_divSymbols'})                 #getting the stocks table\n",
    "\n",
    "    for row in table.findAll('tr',class_=lambda x: x in ['ro','re']):           #Iterating through the rows and storing the data\n",
    "        elements=list(map(lambda x: x.text, row.findAll('td')[:6]))\n",
    "        data_cache.append(elements)\n",
    "    time.sleep(1)"
   ]
  },
  {
   "cell_type": "code",
   "execution_count": 10,
   "metadata": {},
   "outputs": [
    {
     "data": {
      "text/plain": [
       "[['AAB', 'Aberdeen International Inc', '0.0200', '0.0200', '0.0200', '1,000'],\n",
       " ['AAUC', 'Allied Gold Corporation', '3.320', '3.150', '3.320', '563,686'],\n",
       " ['AAUC.DB.U',\n",
       "  'Allied Gold Corporation 8.75%',\n",
       "  '99.90',\n",
       "  '99.90',\n",
       "  '99.90',\n",
       "  '1,000'],\n",
       " ['AAV', 'Advantage Oil & Gas Ltd', '10.100', '9.840', '9.870', '246,587'],\n",
       " ['ABX', 'Barrick Gold Corp', '21.63', '21.21', '21.29', '2,912,101']]"
      ]
     },
     "execution_count": 10,
     "metadata": {},
     "output_type": "execute_result"
    }
   ],
   "source": [
    "# Checking the Data shape\n",
    "data_cache[:5]"
   ]
  },
  {
   "cell_type": "code",
   "execution_count": 11,
   "metadata": {},
   "outputs": [
    {
     "data": {
      "text/html": [
       "<div>\n",
       "<style scoped>\n",
       "    .dataframe tbody tr th:only-of-type {\n",
       "        vertical-align: middle;\n",
       "    }\n",
       "\n",
       "    .dataframe tbody tr th {\n",
       "        vertical-align: top;\n",
       "    }\n",
       "\n",
       "    .dataframe thead th {\n",
       "        text-align: right;\n",
       "    }\n",
       "</style>\n",
       "<table border=\"1\" class=\"dataframe\">\n",
       "  <thead>\n",
       "    <tr style=\"text-align: right;\">\n",
       "      <th></th>\n",
       "      <th>Code</th>\n",
       "      <th>Name</th>\n",
       "      <th>High</th>\n",
       "      <th>Low</th>\n",
       "      <th>Close</th>\n",
       "      <th>Volume</th>\n",
       "    </tr>\n",
       "  </thead>\n",
       "  <tbody>\n",
       "    <tr>\n",
       "      <th>0</th>\n",
       "      <td>AAB</td>\n",
       "      <td>Aberdeen International Inc</td>\n",
       "      <td>0.0200</td>\n",
       "      <td>0.0200</td>\n",
       "      <td>0.0200</td>\n",
       "      <td>1,000</td>\n",
       "    </tr>\n",
       "    <tr>\n",
       "      <th>1</th>\n",
       "      <td>AAUC</td>\n",
       "      <td>Allied Gold Corporation</td>\n",
       "      <td>3.320</td>\n",
       "      <td>3.150</td>\n",
       "      <td>3.320</td>\n",
       "      <td>563,686</td>\n",
       "    </tr>\n",
       "    <tr>\n",
       "      <th>2</th>\n",
       "      <td>AAUC.DB.U</td>\n",
       "      <td>Allied Gold Corporation 8.75%</td>\n",
       "      <td>99.90</td>\n",
       "      <td>99.90</td>\n",
       "      <td>99.90</td>\n",
       "      <td>1,000</td>\n",
       "    </tr>\n",
       "    <tr>\n",
       "      <th>3</th>\n",
       "      <td>AAV</td>\n",
       "      <td>Advantage Oil &amp; Gas Ltd</td>\n",
       "      <td>10.100</td>\n",
       "      <td>9.840</td>\n",
       "      <td>9.870</td>\n",
       "      <td>246,587</td>\n",
       "    </tr>\n",
       "    <tr>\n",
       "      <th>4</th>\n",
       "      <td>ABX</td>\n",
       "      <td>Barrick Gold Corp</td>\n",
       "      <td>21.63</td>\n",
       "      <td>21.21</td>\n",
       "      <td>21.29</td>\n",
       "      <td>2,912,101</td>\n",
       "    </tr>\n",
       "  </tbody>\n",
       "</table>\n",
       "</div>"
      ],
      "text/plain": [
       "        Code                           Name    High     Low   Close     Volume\n",
       "0        AAB     Aberdeen International Inc  0.0200  0.0200  0.0200      1,000\n",
       "1       AAUC        Allied Gold Corporation   3.320   3.150   3.320    563,686\n",
       "2  AAUC.DB.U  Allied Gold Corporation 8.75%   99.90   99.90   99.90      1,000\n",
       "3        AAV        Advantage Oil & Gas Ltd  10.100   9.840   9.870    246,587\n",
       "4        ABX              Barrick Gold Corp   21.63   21.21   21.29  2,912,101"
      ]
     },
     "execution_count": 11,
     "metadata": {},
     "output_type": "execute_result"
    }
   ],
   "source": [
    "#Creation of the data frame using pandas\n",
    "columns=['Code',    'Name',    'High',    'Low',    'Close',    'Volume']\n",
    "DATA=pd.DataFrame(data_cache,columns=columns)\n",
    "DATA.head()"
   ]
  },
  {
   "cell_type": "code",
   "execution_count": 13,
   "metadata": {},
   "outputs": [
    {
     "data": {
      "text/html": [
       "<div>\n",
       "<style scoped>\n",
       "    .dataframe tbody tr th:only-of-type {\n",
       "        vertical-align: middle;\n",
       "    }\n",
       "\n",
       "    .dataframe tbody tr th {\n",
       "        vertical-align: top;\n",
       "    }\n",
       "\n",
       "    .dataframe thead th {\n",
       "        text-align: right;\n",
       "    }\n",
       "</style>\n",
       "<table border=\"1\" class=\"dataframe\">\n",
       "  <thead>\n",
       "    <tr style=\"text-align: right;\">\n",
       "      <th></th>\n",
       "      <th>Code</th>\n",
       "      <th>Name</th>\n",
       "      <th>High</th>\n",
       "      <th>Low</th>\n",
       "      <th>Close</th>\n",
       "      <th>Volume</th>\n",
       "    </tr>\n",
       "  </thead>\n",
       "  <tbody>\n",
       "    <tr>\n",
       "      <th>2</th>\n",
       "      <td>AAUC.DB.U</td>\n",
       "      <td>Allied Gold Corporation 8.75%</td>\n",
       "      <td>99.90</td>\n",
       "      <td>99.90</td>\n",
       "      <td>99.90</td>\n",
       "      <td>1,000</td>\n",
       "    </tr>\n",
       "    <tr>\n",
       "      <th>1512</th>\n",
       "      <td>ONEX</td>\n",
       "      <td>Onex Corp</td>\n",
       "      <td>100.64</td>\n",
       "      <td>99.08</td>\n",
       "      <td>99.87</td>\n",
       "      <td>47,645</td>\n",
       "    </tr>\n",
       "    <tr>\n",
       "      <th>27</th>\n",
       "      <td>AFN.DB.F</td>\n",
       "      <td>Ag Growth Intl Inc 5.4 Pct Debs</td>\n",
       "      <td>99.60</td>\n",
       "      <td>99.60</td>\n",
       "      <td>99.60</td>\n",
       "      <td>17,000</td>\n",
       "    </tr>\n",
       "    <tr>\n",
       "      <th>410</th>\n",
       "      <td>CJT.DB.E</td>\n",
       "      <td>Cargojet Inc 5.75 Pct Debs</td>\n",
       "      <td>99.75</td>\n",
       "      <td>99.52</td>\n",
       "      <td>99.52</td>\n",
       "      <td>14,000</td>\n",
       "    </tr>\n",
       "    <tr>\n",
       "      <th>378</th>\n",
       "      <td>CHE.DB.H</td>\n",
       "      <td>Chemtrade Logistics Incme Fd 7 Pct Debs</td>\n",
       "      <td>99.65</td>\n",
       "      <td>99.50</td>\n",
       "      <td>99.50</td>\n",
       "      <td>37,000</td>\n",
       "    </tr>\n",
       "    <tr>\n",
       "      <th>...</th>\n",
       "      <td>...</td>\n",
       "      <td>...</td>\n",
       "      <td>...</td>\n",
       "      <td>...</td>\n",
       "      <td>...</td>\n",
       "      <td>...</td>\n",
       "    </tr>\n",
       "    <tr>\n",
       "      <th>1517</th>\n",
       "      <td>OREA</td>\n",
       "      <td>Orea Mining Corp</td>\n",
       "      <td>0.0150</td>\n",
       "      <td>0.0100</td>\n",
       "      <td>0.0150</td>\n",
       "      <td>300,237</td>\n",
       "    </tr>\n",
       "    <tr>\n",
       "      <th>983</th>\n",
       "      <td>GMTN</td>\n",
       "      <td>Gold Mountain Mining Corp</td>\n",
       "      <td>0.0200</td>\n",
       "      <td>0.0100</td>\n",
       "      <td>0.0100</td>\n",
       "      <td>2,505,483</td>\n",
       "    </tr>\n",
       "    <tr>\n",
       "      <th>1883</th>\n",
       "      <td>STCK.WT</td>\n",
       "      <td>Stack Capital Group Inc WT</td>\n",
       "      <td>0.0050</td>\n",
       "      <td>0.0050</td>\n",
       "      <td>0.0050</td>\n",
       "      <td>1,000</td>\n",
       "    </tr>\n",
       "    <tr>\n",
       "      <th>8</th>\n",
       "      <td>ACB.WS.U</td>\n",
       "      <td>Aurora Cannabis Inc Ws USD</td>\n",
       "      <td>0.0050</td>\n",
       "      <td>0.0050</td>\n",
       "      <td>0.0050</td>\n",
       "      <td>5,000</td>\n",
       "    </tr>\n",
       "    <tr>\n",
       "      <th>1828</th>\n",
       "      <td>SFC.WT</td>\n",
       "      <td>Sagicor Financial Company Ltd WT</td>\n",
       "      <td>0.0050</td>\n",
       "      <td>0.0050</td>\n",
       "      <td>0.0050</td>\n",
       "      <td>2,000</td>\n",
       "    </tr>\n",
       "  </tbody>\n",
       "</table>\n",
       "<p>2489 rows × 6 columns</p>\n",
       "</div>"
      ],
      "text/plain": [
       "           Code                                     Name    High     Low  \\\n",
       "2     AAUC.DB.U            Allied Gold Corporation 8.75%   99.90   99.90   \n",
       "1512       ONEX                                Onex Corp  100.64   99.08   \n",
       "27     AFN.DB.F          Ag Growth Intl Inc 5.4 Pct Debs   99.60   99.60   \n",
       "410    CJT.DB.E               Cargojet Inc 5.75 Pct Debs   99.75   99.52   \n",
       "378    CHE.DB.H  Chemtrade Logistics Incme Fd 7 Pct Debs   99.65   99.50   \n",
       "...         ...                                      ...     ...     ...   \n",
       "1517       OREA                         Orea Mining Corp  0.0150  0.0100   \n",
       "983        GMTN                Gold Mountain Mining Corp  0.0200  0.0100   \n",
       "1883    STCK.WT               Stack Capital Group Inc WT  0.0050  0.0050   \n",
       "8      ACB.WS.U               Aurora Cannabis Inc Ws USD  0.0050  0.0050   \n",
       "1828     SFC.WT         Sagicor Financial Company Ltd WT  0.0050  0.0050   \n",
       "\n",
       "       Close     Volume  \n",
       "2      99.90      1,000  \n",
       "1512   99.87     47,645  \n",
       "27     99.60     17,000  \n",
       "410    99.52     14,000  \n",
       "378    99.50     37,000  \n",
       "...      ...        ...  \n",
       "1517  0.0150    300,237  \n",
       "983   0.0100  2,505,483  \n",
       "1883  0.0050      1,000  \n",
       "8     0.0050      5,000  \n",
       "1828  0.0050      2,000  \n",
       "\n",
       "[2489 rows x 6 columns]"
      ]
     },
     "execution_count": 13,
     "metadata": {},
     "output_type": "execute_result"
    }
   ],
   "source": [
    "DATA.sort_values(by='Close',ascending=False)"
   ]
  },
  {
   "cell_type": "markdown",
   "metadata": {},
   "source": [
    "### That concluded the end\n",
    "Data is available for any kind of analysis needed."
   ]
  },
  {
   "cell_type": "markdown",
   "metadata": {},
   "source": []
  }
 ],
 "metadata": {
  "kernelspec": {
   "display_name": "Python 3",
   "language": "python",
   "name": "python3"
  },
  "language_info": {
   "codemirror_mode": {
    "name": "ipython",
    "version": 3
   },
   "file_extension": ".py",
   "mimetype": "text/x-python",
   "name": "python",
   "nbconvert_exporter": "python",
   "pygments_lexer": "ipython3",
   "version": "3.12.0"
  }
 },
 "nbformat": 4,
 "nbformat_minor": 2
}
