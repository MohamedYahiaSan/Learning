{
 "cells": [
  {
   "cell_type": "markdown",
   "id": "37fd9966-0956-4600-a646-821344a5b251",
   "metadata": {},
   "source": [
    "<div style=\"text-align: center;\">\n",
    "  <h1><strong>Pandas Practicing Lab </strong></h1>\n",
    "</div>\n",
    "\n"
   ]
  },
  {
   "cell_type": "markdown",
   "id": "4bb46d50-f605-4b2d-98b5-552ba6c7c298",
   "metadata": {},
   "source": [
    "## Importing Needed Libs"
   ]
  },
  {
   "cell_type": "code",
   "execution_count": 8,
   "id": "0464bb46-9902-45df-b701-c43ca36de322",
   "metadata": {},
   "outputs": [],
   "source": [
    "import pandas as pd\n",
    "import numpy as np \n",
    "import matplotlib.pyplot as plt"
   ]
  },
  {
   "cell_type": "code",
   "execution_count": null,
   "id": "dbf62aad-561a-482b-ba41-b69fdc075742",
   "metadata": {},
   "outputs": [],
   "source": []
  }
 ],
 "metadata": {
  "kernelspec": {
   "display_name": "Python 3 (ipykernel)",
   "language": "python",
   "name": "python3"
  },
  "language_info": {
   "codemirror_mode": {
    "name": "ipython",
    "version": 3
   },
   "file_extension": ".py",
   "mimetype": "text/x-python",
   "name": "python",
   "nbconvert_exporter": "python",
   "pygments_lexer": "ipython3",
   "version": "3.12.0"
  }
 },
 "nbformat": 4,
 "nbformat_minor": 5
}
